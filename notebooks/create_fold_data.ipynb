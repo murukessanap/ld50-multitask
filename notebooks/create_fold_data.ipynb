{
 "cells": [
  {
   "cell_type": "code",
   "execution_count": 1,
   "metadata": {},
   "outputs": [],
   "source": [
    "import pandas as pd\n",
    "import numpy as np\n",
    "import warnings; warnings.simplefilter('ignore')"
   ]
  },
  {
   "cell_type": "code",
   "execution_count": 2,
   "metadata": {},
   "outputs": [
    {
     "name": "stdout",
     "output_type": "stream",
     "text": [
      "(80361, 1085)\n"
     ]
    }
   ],
   "source": [
    "# read dataset and join features\n",
    "data = pd.read_csv('../data/dataset.csv', sep=',', dtype={'RTECS_ID': str})\n",
    "bits = pd.read_csv('../data/avalon_bits.csv', sep=',', dtype={'RTECS_ID': str})\n",
    "\n",
    "# join features\n",
    "data_df = pd.merge(data, bits, on='RTECS_ID')\n",
    "\n",
    "print(data_df.shape)"
   ]
  },
  {
   "cell_type": "code",
   "execution_count": 4,
   "metadata": {},
   "outputs": [
    {
     "name": "stdout",
     "output_type": "stream",
     "text": [
      "(56252, 1085)\n",
      "(24109, 1085)\n"
     ]
    }
   ],
   "source": [
    "# read training and test ids for each fold\n",
    "train = '../data/random_split/train_fold_0.csv'\n",
    "test = '../data/random_split/test_fold_0.csv'\n",
    "\n",
    "train_df = pd.read_csv(train, dtype={'RTECS_ID': str})\n",
    "test_df = pd.read_csv(test, dtype={'RTECS_ID': str})\n",
    "\n",
    "# join with data\n",
    "train_df = pd.merge(train_df, data_df, on='RTECS_ID')\n",
    "test_df = pd.merge(test_df, data_df, on='RTECS_ID')\n",
    "\n",
    "print(train_df.shape) # rtecs id, smiles, 59 tasks and 1024 features = 1085 columns\n",
    "print(test_df.shape) # rtecs id, smiles, 59 tasks and 1024 features = 1085 columns"
   ]
  },
  {
   "cell_type": "code",
   "execution_count": 5,
   "metadata": {},
   "outputs": [],
   "source": [
    "# write out traina and test data\n",
    "train_df.to_csv('train_fold_0.csv', index=False)\n",
    "test_df.to_csv('test_fold_0.csv', index=False)"
   ]
  },
  {
   "cell_type": "code",
   "execution_count": null,
   "metadata": {},
   "outputs": [],
   "source": []
  }
 ],
 "metadata": {
  "kernelspec": {
   "display_name": "Python 3",
   "language": "python",
   "name": "python3"
  },
  "language_info": {
   "codemirror_mode": {
    "name": "ipython",
    "version": 3
   },
   "file_extension": ".py",
   "mimetype": "text/x-python",
   "name": "python",
   "nbconvert_exporter": "python",
   "pygments_lexer": "ipython3",
   "version": "3.6.10"
  }
 },
 "nbformat": 4,
 "nbformat_minor": 4
}
